{
 "cells": [
  {
   "cell_type": "markdown",
   "id": "01fd229a-7839-4564-8e6b-ec928fe51fbb",
   "metadata": {},
   "source": [
    "# Prime numbers and the sieve of Eratosthenes\n",
    "_Author: An enthusiastic scientist, a terrible programmer._\n",
    "\n",
    "The sieve of Eratosthenes is a simple and famous algorithm for factoring prime\n",
    "numbers. I was always fascinated with prime numbers, so I am very excited about new project!"
   ]
  },
  {
   "cell_type": "code",
   "execution_count": 23,
   "id": "3515741a-843d-40ab-b991-a32b7a9cd3f8",
   "metadata": {},
   "outputs": [],
   "source": [
    "from sievetools import sieve, plots"
   ]
  },
  {
   "cell_type": "markdown",
   "id": "b728cbcd-e726-4ff3-a62f-98a7121c79a2",
   "metadata": {},
   "source": [
    "Let's start with a simple implementation of the Sieve or Eratosthenes:"
   ]
  },
  {
   "cell_type": "markdown",
   "id": "bdd29d53-1ccf-44f7-8555-78bb859001c0",
   "metadata": {},
   "source": [
    "Now, let's do something a little bit more efficient. This code should give me the same than before, but in less time. "
   ]
  },
  {
   "cell_type": "markdown",
   "id": "840d9c6e-a4f6-4ea8-b28a-00d8c56197cf",
   "metadata": {
    "tags": []
   },
   "source": [
    "## Long Run: proportion of primer numbers\n",
    "\n",
    "Now I am interested in knowing what is the proportion of prime numbers smaller than some `nmax`. This next for loop runs the last implementation of the sieve of Eratosthenes for different numbers. "
   ]
  },
  {
   "cell_type": "markdown",
   "id": "b8c287c9-e310-4498-92ce-c59bec68b9fa",
   "metadata": {},
   "source": [
    "OIn theory this should look like $1 / ln(N)$. Let's make the plot in log scale, since it seems more meaninful in this way."
   ]
  },
  {
   "cell_type": "markdown",
   "id": "7cda3103-9645-4323-a5eb-7a14f98a60c6",
   "metadata": {},
   "source": [
    "## Performance\n",
    "\n",
    "It will be great to compare the performance of the two algorithms as we increase the window search. \n",
    "\n",
    "Write a function that computes the overall time of a program. I guess something like this should work. The function `time.perf_counter` can be useful here. "
   ]
  },
  {
   "cell_type": "code",
   "execution_count": null,
   "id": "538b8740-0820-4373-96f7-ddde241e0cd7",
   "metadata": {},
   "outputs": [],
   "source": [
    "import time\n",
    "\n",
    "def time_rng(fun, nrange, verbose=False):\n",
    "    \"\"\"\n",
    "    Time a function over a range of parameters.\n",
    "\n",
    "    Returns the list of run times.\n",
    "\n",
    "    The function should be callable with a single argument: it will be\n",
    "    called with each entry from nrange in turn.\n",
    "\n",
    "    If verbose is true, at each step the value of nrange and time for the\n",
    "    call is printed.\n",
    "    \"\"\"\n",
    "\n",
    "    # BEGIN SOLUTION\n",
    "\n",
    "\n",
    "    # END SOLUTION\n",
    "    return nrange, times"
   ]
  },
  {
   "cell_type": "markdown",
   "id": "0ee2ace0-d28a-463b-bf77-c5ca2bef75e4",
   "metadata": {},
   "source": [
    "Plot!!! Make a comparision of the two methods. "
   ]
  }
 ],
 "metadata": {
  "kernelspec": {
   "display_name": "IPython - test_env",
   "language": "python",
   "name": "test_env"
  },
  "language_info": {
   "codemirror_mode": {
    "name": "ipython",
    "version": 3
   },
   "file_extension": ".py",
   "mimetype": "text/x-python",
   "name": "python",
   "nbconvert_exporter": "python",
   "pygments_lexer": "ipython3",
   "version": "3.8.6"
  }
 },
 "nbformat": 4,
 "nbformat_minor": 5
}
